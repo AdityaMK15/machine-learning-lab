{
  "nbformat": 4,
  "nbformat_minor": 0,
  "metadata": {
    "colab": {
      "provenance": [],
      "authorship_tag": "ABX9TyMsAaJ8FbiMPCP9DerqMT7I",
      "include_colab_link": true
    },
    "kernelspec": {
      "name": "python3",
      "display_name": "Python 3"
    },
    "language_info": {
      "name": "python"
    }
  },
  "cells": [
    {
      "cell_type": "markdown",
      "metadata": {
        "id": "view-in-github",
        "colab_type": "text"
      },
      "source": [
        "<a href=\"https://colab.research.google.com/github/AdityaMK15/machine-learning-lab/blob/main/1BM22CS015_ML_LAB_EXAM.ipynb\" target=\"_parent\"><img src=\"https://colab.research.google.com/assets/colab-badge.svg\" alt=\"Open In Colab\"/></a>"
      ]
    },
    {
      "cell_type": "code",
      "execution_count": 1,
      "metadata": {
        "colab": {
          "base_uri": "https://localhost:8080/"
        },
        "id": "m2NYC3x75WyX",
        "outputId": "a5ec2c08-a74f-42eb-bee5-43650499a55b"
      },
      "outputs": [
        {
          "output_type": "stream",
          "name": "stdout",
          "text": [
            "R-squared: 0.9115298013245033\n",
            "Mean Squared Error: 0.11040495867768595\n",
            "Root Mean Squared Error: 0.33227241636597815\n",
            "Predicted sales for week 12: 5.48 (thousands)\n"
          ]
        }
      ],
      "source": [
        "\n",
        "\n",
        "import numpy as np\n",
        "from sklearn.linear_model import LinearRegression\n",
        "from sklearn.metrics import r2_score, mean_squared_error\n",
        "\n",
        "\n",
        "xi = np.array([1, 2, 3, 4, 5, 6, 7, 8, 9, 10, 11]).reshape(-1, 1)\n",
        "yi = np.array([1.2, 1.8, 2.6, 3.2, 3.8, 3.6, 3.7, 4.1, 4.5, 4.6, 4.9])\n",
        "\n",
        "\n",
        "model = LinearRegression()\n",
        "model.fit(xi, yi)\n",
        "\n",
        "\n",
        "yi_pred = model.predict(xi)\n",
        "\n",
        "\n",
        "r2 = r2_score(yi, yi_pred)\n",
        "mse = mean_squared_error(yi, yi_pred)\n",
        "rmse = np.sqrt(mse)\n",
        "\n",
        "print(f\"R-squared: {r2}\")\n",
        "print(f\"Mean Squared Error: {mse}\")\n",
        "print(f\"Root Mean Squared Error: {rmse}\")\n",
        "\n",
        "\n",
        "week_12 = np.array([[12]])\n",
        "predicted_sales_week_12 = model.predict(week_12)\n",
        "\n",
        "print(f\"Predicted sales for week 12: {predicted_sales_week_12[0]:.2f} (thousands)\")\n"
      ]
    }
  ]
}