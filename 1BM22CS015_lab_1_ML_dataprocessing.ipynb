{
  "nbformat": 4,
  "nbformat_minor": 0,
  "metadata": {
    "colab": {
      "provenance": [],
      "authorship_tag": "ABX9TyOMVWp7TDBVJv9XWEYsXoIZ",
      "include_colab_link": true
    },
    "kernelspec": {
      "name": "python3",
      "display_name": "Python 3"
    },
    "language_info": {
      "name": "python"
    }
  },
  "cells": [
    {
      "cell_type": "markdown",
      "metadata": {
        "id": "view-in-github",
        "colab_type": "text"
      },
      "source": [
        "<a href=\"https://colab.research.google.com/github/AdityaMK15/machine-learning-lab/blob/main/1BM22CS015_lab_1_ML_dataprocessing.ipynb\" target=\"_parent\"><img src=\"https://colab.research.google.com/assets/colab-badge.svg\" alt=\"Open In Colab\"/></a>"
      ]
    },
    {
      "cell_type": "code",
      "execution_count": 3,
      "metadata": {
        "colab": {
          "base_uri": "https://localhost:8080/"
        },
        "id": "_E7mIy8VfFFp",
        "outputId": "16b6520b-9517-42f1-f9da-c4de3788b765"
      },
      "outputs": [
        {
          "output_type": "stream",
          "name": "stdout",
          "text": [
            "Sample data:\n",
            "   age  workclass  fnlwgt     education  educational-num      marital-status  \\\n",
            "0   25    Private  226802          11th                7       Never-married   \n",
            "1   38    Private   89814       HS-grad                9  Married-civ-spouse   \n",
            "2   28  Local-gov  336951    Assoc-acdm               12  Married-civ-spouse   \n",
            "3   44    Private  160323  Some-college               10  Married-civ-spouse   \n",
            "4   18          ?  103497  Some-college               10       Never-married   \n",
            "\n",
            "          occupation relationship   race  gender  capital-gain  capital-loss  \\\n",
            "0  Machine-op-inspct    Own-child  Black    Male             0             0   \n",
            "1    Farming-fishing      Husband  White    Male             0             0   \n",
            "2    Protective-serv      Husband  White    Male             0             0   \n",
            "3  Machine-op-inspct      Husband  Black    Male          7688             0   \n",
            "4                  ?    Own-child  White  Female             0             0   \n",
            "\n",
            "   hours-per-week native-country income  \n",
            "0              40  United-States  <=50K  \n",
            "1              50  United-States  <=50K  \n",
            "2              40  United-States   >50K  \n",
            "3              40  United-States   >50K  \n",
            "4              30  United-States  <=50K  \n"
          ]
        }
      ],
      "source": [
        "import pandas as pd\n",
        "df = pd.read_csv('adult.csv')\n",
        "print(\"Sample data:\")\n",
        "print(df.head())"
      ]
    },
    {
      "cell_type": "code",
      "source": [
        "#housing.csv\n",
        "\n",
        "import pandas as pd\n",
        "\n",
        "# i. To load .csv file into the data frame\n",
        "df = pd.read_csv(\"housing.csv\")\n",
        "\n",
        "# ii. To display information of all columns\n",
        "print(\"Information of all columns:\")\n",
        "print(df.head())\n",
        "\n",
        "# iii. To display statistical information of all numerical columns\n",
        "print(\"\\nStatistical information of all numerical columns:\")\n",
        "print(df.describe())\n",
        "\n",
        "# iv. To display the count of unique labels for \"Ocean Proximity\" column\n",
        "print(\"\\nCount of unique labels for 'Ocean Proximity' column:\")\n",
        "print(df['ocean_proximity'].value_counts())\n",
        "\n",
        "# v. To display which attributes (columns) in a dataset have missing values count greater than zero\n",
        "print(\"\\nColumns with missing values:\")\n",
        "missing_values = df.isnull().sum()\n",
        "columns_with_missing_values = missing_values[missing_values > 0]\n",
        "print(columns_with_missing_values)"
      ],
      "metadata": {
        "colab": {
          "base_uri": "https://localhost:8080/"
        },
        "id": "jKJO-n7SjBRu",
        "outputId": "bef268b0-5bb8-4630-fc09-d58f66be114c"
      },
      "execution_count": 9,
      "outputs": [
        {
          "output_type": "stream",
          "name": "stdout",
          "text": [
            "Information of all columns:\n",
            "   longitude  latitude  housing_median_age  total_rooms  total_bedrooms  \\\n",
            "0    -122.23     37.88                41.0        880.0           129.0   \n",
            "1    -122.22     37.86                21.0       7099.0          1106.0   \n",
            "2    -122.24     37.85                52.0       1467.0           190.0   \n",
            "3    -122.25     37.85                52.0       1274.0           235.0   \n",
            "4    -122.25     37.85                52.0       1627.0           280.0   \n",
            "\n",
            "   population  households  median_income  median_house_value ocean_proximity  \n",
            "0       322.0       126.0         8.3252            452600.0        NEAR BAY  \n",
            "1      2401.0      1138.0         8.3014            358500.0        NEAR BAY  \n",
            "2       496.0       177.0         7.2574            352100.0        NEAR BAY  \n",
            "3       558.0       219.0         5.6431            341300.0        NEAR BAY  \n",
            "4       565.0       259.0         3.8462            342200.0        NEAR BAY  \n",
            "\n",
            "Statistical information of all numerical columns:\n",
            "          longitude      latitude  housing_median_age   total_rooms  \\\n",
            "count  20640.000000  20640.000000        20640.000000  20640.000000   \n",
            "mean    -119.569704     35.631861           28.639486   2635.763081   \n",
            "std        2.003532      2.135952           12.585558   2181.615252   \n",
            "min     -124.350000     32.540000            1.000000      2.000000   \n",
            "25%     -121.800000     33.930000           18.000000   1447.750000   \n",
            "50%     -118.490000     34.260000           29.000000   2127.000000   \n",
            "75%     -118.010000     37.710000           37.000000   3148.000000   \n",
            "max     -114.310000     41.950000           52.000000  39320.000000   \n",
            "\n",
            "       total_bedrooms    population    households  median_income  \\\n",
            "count    20433.000000  20640.000000  20640.000000   20640.000000   \n",
            "mean       537.870553   1425.476744    499.539680       3.870671   \n",
            "std        421.385070   1132.462122    382.329753       1.899822   \n",
            "min          1.000000      3.000000      1.000000       0.499900   \n",
            "25%        296.000000    787.000000    280.000000       2.563400   \n",
            "50%        435.000000   1166.000000    409.000000       3.534800   \n",
            "75%        647.000000   1725.000000    605.000000       4.743250   \n",
            "max       6445.000000  35682.000000   6082.000000      15.000100   \n",
            "\n",
            "       median_house_value  \n",
            "count        20640.000000  \n",
            "mean        206855.816909  \n",
            "std         115395.615874  \n",
            "min          14999.000000  \n",
            "25%         119600.000000  \n",
            "50%         179700.000000  \n",
            "75%         264725.000000  \n",
            "max         500001.000000  \n",
            "\n",
            "Count of unique labels for 'Ocean Proximity' column:\n",
            "ocean_proximity\n",
            "<1H OCEAN     9136\n",
            "INLAND        6551\n",
            "NEAR OCEAN    2658\n",
            "NEAR BAY      2290\n",
            "ISLAND           5\n",
            "Name: count, dtype: int64\n",
            "\n",
            "Columns with missing values:\n",
            "total_bedrooms    207\n",
            "dtype: int64\n"
          ]
        }
      ]
    },
    {
      "cell_type": "code",
      "source": [
        "import pandas as pd\n",
        "import numpy as np\n",
        "from sklearn.model_selection import train_test_split\n",
        "from sklearn.preprocessing import MinMaxScaler, StandardScaler\n",
        "from sklearn.impute import SimpleImputer\n",
        "from sklearn.preprocessing import LabelEncoder\n",
        "import seaborn as sns\n",
        "import matplotlib.pyplot as plt\n",
        "\n",
        "diabetes_data = pd.read_csv('Dataset of Diabetes  (2).csv')\n",
        "adult_income_data = pd.read_csv('adult.csv')\n",
        "\n",
        "print(\"Diabetes Dataset:\")\n",
        "print(diabetes_data.head())\n",
        "\n",
        "print(\"\\nAdult Income Dataset:\")\n",
        "print(adult_income_data.head())\n",
        "\n",
        "diabetes_numerical_cols = diabetes_data.select_dtypes(include=[np.number]).columns\n",
        "diabetes_categorical_cols = diabetes_data.select_dtypes(include=[object]).columns\n",
        "\n",
        "diabetes_imputer_num = SimpleImputer(strategy='median')\n",
        "diabetes_data[diabetes_numerical_cols] = diabetes_imputer_num.fit_transform(diabetes_data[diabetes_numerical_cols])\n",
        "\n",
        "diabetes_imputer_cat = SimpleImputer(strategy='most_frequent')\n",
        "diabetes_data[diabetes_categorical_cols] = diabetes_imputer_cat.fit_transform(diabetes_data[diabetes_categorical_cols])\n",
        "\n",
        "adult_income_numerical_cols = adult_income_data.select_dtypes(include=[np.number]).columns\n",
        "adult_income_categorical_cols = adult_income_data.select_dtypes(include=[object]).columns\n",
        "\n",
        "adult_income_imputer_num = SimpleImputer(strategy='median')\n",
        "adult_income_data[adult_income_numerical_cols] = adult_income_imputer_num.fit_transform(adult_income_data[adult_income_numerical_cols])\n",
        "\n",
        "adult_income_imputer_cat = SimpleImputer(strategy='most_frequent')\n",
        "adult_income_data[adult_income_categorical_cols] = adult_income_imputer_cat.fit_transform(adult_income_data[adult_income_categorical_cols])\n",
        "\n",
        "categorical_columns_adult = adult_income_data.select_dtypes(include=['object']).columns\n",
        "label_encoder = LabelEncoder()\n",
        "\n",
        "for col in categorical_columns_adult:\n",
        "    adult_income_data[col] = label_encoder.fit_transform(adult_income_data[col])\n",
        "\n",
        "def detect_and_remove_outliers(df):\n",
        "    numerical_df = df.select_dtypes(include=[np.number])\n",
        "    Q1 = numerical_df.quantile(0.25)\n",
        "    Q3 = numerical_df.quantile(0.75)\n",
        "    IQR = Q3 - Q1\n",
        "    return df[~((numerical_df < (Q1 - 1.5 * IQR)) | (numerical_df > (Q3 + 1.5 * IQR))).any(axis=1)]\n",
        "\n",
        "diabetes_data_cleaned = detect_and_remove_outliers(diabetes_data)\n",
        "adult_income_data_cleaned = detect_and_remove_outliers(adult_income_data)\n",
        "\n",
        "min_max_scaler = MinMaxScaler()\n",
        "\n",
        "diabetes_numerical_cols = diabetes_data_cleaned.select_dtypes(include=[np.number]).columns\n",
        "diabetes_data_normalized = diabetes_data_cleaned.copy()\n",
        "\n",
        "diabetes_data_normalized[diabetes_numerical_cols] = min_max_scaler.fit_transform(diabetes_data_cleaned[diabetes_numerical_cols])\n",
        "\n",
        "adult_income_numerical_cols = adult_income_data_cleaned.select_dtypes(include=[np.number]).columns\n",
        "adult_income_data_normalized = adult_income_data_cleaned.copy()\n",
        "\n",
        "adult_income_data_normalized[adult_income_numerical_cols] = min_max_scaler.fit_transform(adult_income_data_cleaned[adult_income_numerical_cols])\n",
        "\n",
        "standard_scaler = StandardScaler()\n",
        "\n",
        "diabetes_data_standardized = diabetes_data_cleaned.copy()\n",
        "diabetes_data_standardized[diabetes_numerical_cols] = standard_scaler.fit_transform(diabetes_data_cleaned[diabetes_numerical_cols])\n",
        "\n",
        "adult_income_data_standardized = adult_income_data_cleaned.copy()\n",
        "adult_income_data_standardized[adult_income_numerical_cols] = standard_scaler.fit_transform(adult_income_data_cleaned[adult_income_numerical_cols])\n"
      ],
      "metadata": {
        "colab": {
          "base_uri": "https://localhost:8080/"
        },
        "id": "HEFiQDk8m_dm",
        "outputId": "1d03550f-a42a-492a-b788-32ffbc4aafcd"
      },
      "execution_count": 15,
      "outputs": [
        {
          "output_type": "stream",
          "name": "stdout",
          "text": [
            "Diabetes Dataset:\n",
            "    ID  No_Pation Gender  AGE  Urea  Cr  HbA1c  Chol   TG  HDL  LDL  VLDL  \\\n",
            "0  502      17975      F   50   4.7  46    4.9   4.2  0.9  2.4  1.4   0.5   \n",
            "1  735      34221      M   26   4.5  62    4.9   3.7  1.4  1.1  2.1   0.6   \n",
            "2  420      47975      F   50   4.7  46    4.9   4.2  0.9  2.4  1.4   0.5   \n",
            "3  680      87656      F   50   4.7  46    4.9   4.2  0.9  2.4  1.4   0.5   \n",
            "4  504      34223      M   33   7.1  46    4.9   4.9  1.0  0.8  2.0   0.4   \n",
            "\n",
            "    BMI CLASS  \n",
            "0  24.0     N  \n",
            "1  23.0     N  \n",
            "2  24.0     N  \n",
            "3  24.0     N  \n",
            "4  21.0     N  \n",
            "\n",
            "Adult Income Dataset:\n",
            "   age  workclass  fnlwgt     education  educational-num      marital-status  \\\n",
            "0   25    Private  226802          11th                7       Never-married   \n",
            "1   38    Private   89814       HS-grad                9  Married-civ-spouse   \n",
            "2   28  Local-gov  336951    Assoc-acdm               12  Married-civ-spouse   \n",
            "3   44    Private  160323  Some-college               10  Married-civ-spouse   \n",
            "4   18          ?  103497  Some-college               10       Never-married   \n",
            "\n",
            "          occupation relationship   race  gender  capital-gain  capital-loss  \\\n",
            "0  Machine-op-inspct    Own-child  Black    Male             0             0   \n",
            "1    Farming-fishing      Husband  White    Male             0             0   \n",
            "2    Protective-serv      Husband  White    Male             0             0   \n",
            "3  Machine-op-inspct      Husband  Black    Male          7688             0   \n",
            "4                  ?    Own-child  White  Female             0             0   \n",
            "\n",
            "   hours-per-week native-country income  \n",
            "0              40  United-States  <=50K  \n",
            "1              50  United-States  <=50K  \n",
            "2              40  United-States   >50K  \n",
            "3              40  United-States   >50K  \n",
            "4              30  United-States  <=50K  \n"
          ]
        }
      ]
    }
  ]
}